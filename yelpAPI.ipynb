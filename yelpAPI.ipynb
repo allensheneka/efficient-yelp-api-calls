{
 "cells": [
  {
   "cell_type": "markdown",
   "id": "e2ea2e17",
   "metadata": {},
   "source": [
    "# yelpAPI\n",
    "\n",
    "## Author:  Sheneka Allen"
   ]
  },
  {
   "cell_type": "code",
   "execution_count": 1,
   "id": "031ae8fe",
   "metadata": {},
   "outputs": [
    {
     "name": "stdout",
     "output_type": "stream",
     "text": [
      "Requirement already satisfied: tqdm in /Users/shenekaallen/opt/anaconda3/envs/dojo-env/lib/python3.7/site-packages (4.64.0)\r\n"
     ]
    }
   ],
   "source": [
    "# package that provides PROGRESS BAR for processing data from returned API calls\n",
    "!pip install tqdm"
   ]
  },
  {
   "cell_type": "code",
   "execution_count": 2,
   "id": "c44c86c0",
   "metadata": {},
   "outputs": [],
   "source": [
    "# Standard Imports\n",
    "import numpy as np\n",
    "import pandas as pd\n",
    "import matplotlib.pyplot as plt\n",
    "import seaborn as sns\n",
    "\n",
    "# Additional Imports\n",
    "import os, json, math, time\n",
    "from yelpapi import YelpAPI\n",
    "from tqdm.notebook import tqdm_notebook"
   ]
  },
  {
   "cell_type": "code",
   "execution_count": 3,
   "id": "18a7640a",
   "metadata": {},
   "outputs": [
    {
     "data": {
      "text/plain": [
       "dict_keys(['client-id', 'api-key'])"
      ]
     },
     "execution_count": 3,
     "metadata": {},
     "output_type": "execute_result"
    }
   ],
   "source": [
    "# Load API Credentials\n",
    "with open('/Users/shenekaallen/.secret/yelp_api.json') as f:\n",
    "    login = json.load(f)\n",
    "login.keys()"
   ]
  },
  {
   "cell_type": "code",
   "execution_count": 4,
   "id": "97db2832",
   "metadata": {},
   "outputs": [
    {
     "data": {
      "text/plain": [
       "<yelpapi.yelpapi.YelpAPI at 0x7fcf40f8d450>"
      ]
     },
     "execution_count": 4,
     "metadata": {},
     "output_type": "execute_result"
    }
   ],
   "source": [
    "# Instantiate YelpAPI Variable\n",
    "yelp_api = YelpAPI(login['api-key'], timeout_s=5.0)\n",
    "yelp_api"
   ]
  },
  {
   "cell_type": "code",
   "execution_count": 5,
   "id": "437843a5",
   "metadata": {},
   "outputs": [],
   "source": [
    "# set API call parameters and filename before the first call\n",
    "Location = \"New Orleans, LA 70130\"\n",
    "Term = \"Gumbo\""
   ]
  },
  {
   "cell_type": "code",
   "execution_count": 6,
   "id": "c87170b3",
   "metadata": {},
   "outputs": [],
   "source": [
    "# Specify folder for saving data in Python vs Jupyter Notebook\n",
    "folder = \"Data/\"\n",
    "os.makedirs(folder, exist_ok=True)"
   ]
  },
  {
   "cell_type": "code",
   "execution_count": 7,
   "id": "40e80a3a",
   "metadata": {},
   "outputs": [],
   "source": [
    "# Dynamic Code Location and Term for JSON_FILE name, auto updates with each API pull\n",
    "JSON_FILE = folder+ f\"{Location.split(',')[0]}-{Term}.json\""
   ]
  },
  {
   "cell_type": "code",
   "execution_count": 8,
   "id": "1048eba0",
   "metadata": {},
   "outputs": [
    {
     "data": {
      "text/plain": [
       "'Data/New Orleans-Gumbo.json'"
      ]
     },
     "execution_count": 8,
     "metadata": {},
     "output_type": "execute_result"
    }
   ],
   "source": [
    "# new dynamic JSON_FILE name has dash between location and term\n",
    "JSON_FILE"
   ]
  },
  {
   "cell_type": "code",
   "execution_count": 9,
   "id": "eb8119bb",
   "metadata": {},
   "outputs": [
    {
     "data": {
      "text/plain": [
       "dict"
      ]
     },
     "execution_count": 9,
     "metadata": {},
     "output_type": "execute_result"
    }
   ],
   "source": [
    "# use the yelp_api variable's search_query method to perform the API call\n",
    "results = yelp_api.search_query(term=Term,location = Location)\n",
    "type(results)"
   ]
  },
  {
   "cell_type": "code",
   "execution_count": 10,
   "id": "babe2905",
   "metadata": {},
   "outputs": [
    {
     "data": {
      "text/plain": [
       "dict_keys(['businesses', 'total', 'region'])"
      ]
     },
     "execution_count": 10,
     "metadata": {},
     "output_type": "execute_result"
    }
   ],
   "source": [
    "# What data is returned with each Yelp API pull?\n",
    "results.keys()"
   ]
  },
  {
   "cell_type": "code",
   "execution_count": 11,
   "id": "4376b4d0",
   "metadata": {},
   "outputs": [
    {
     "data": {
      "text/plain": [
       "20"
      ]
     },
     "execution_count": 11,
     "metadata": {},
     "output_type": "execute_result"
    }
   ],
   "source": [
    "# How many businesses listed PER page?\n",
    "len(results['businesses'])"
   ]
  },
  {
   "cell_type": "code",
   "execution_count": 12,
   "id": "ec6cad1a",
   "metadata": {},
   "outputs": [
    {
     "data": {
      "text/plain": [
       "302"
      ]
     },
     "execution_count": 12,
     "metadata": {},
     "output_type": "execute_result"
    }
   ],
   "source": [
    "## How many results total?\n",
    "results['total']"
   ]
  },
  {
   "cell_type": "code",
   "execution_count": 13,
   "id": "3b4f2f56",
   "metadata": {},
   "outputs": [
    {
     "data": {
      "text/html": [
       "<div>\n",
       "<style scoped>\n",
       "    .dataframe tbody tr th:only-of-type {\n",
       "        vertical-align: middle;\n",
       "    }\n",
       "\n",
       "    .dataframe tbody tr th {\n",
       "        vertical-align: top;\n",
       "    }\n",
       "\n",
       "    .dataframe thead th {\n",
       "        text-align: right;\n",
       "    }\n",
       "</style>\n",
       "<table border=\"1\" class=\"dataframe\">\n",
       "  <thead>\n",
       "    <tr style=\"text-align: right;\">\n",
       "      <th></th>\n",
       "      <th>id</th>\n",
       "      <th>alias</th>\n",
       "      <th>name</th>\n",
       "      <th>image_url</th>\n",
       "      <th>is_closed</th>\n",
       "      <th>url</th>\n",
       "      <th>review_count</th>\n",
       "      <th>categories</th>\n",
       "      <th>rating</th>\n",
       "      <th>coordinates</th>\n",
       "      <th>transactions</th>\n",
       "      <th>price</th>\n",
       "      <th>location</th>\n",
       "      <th>phone</th>\n",
       "      <th>display_phone</th>\n",
       "      <th>distance</th>\n",
       "    </tr>\n",
       "  </thead>\n",
       "  <tbody>\n",
       "    <tr>\n",
       "      <th>0</th>\n",
       "      <td>qb28j-FNX1_6xm7u372TZA</td>\n",
       "      <td>gumbo-shop-new-orleans-2</td>\n",
       "      <td>Gumbo Shop</td>\n",
       "      <td>https://s3-media2.fl.yelpcdn.com/bphoto/aFZtqf...</td>\n",
       "      <td>False</td>\n",
       "      <td>https://www.yelp.com/biz/gumbo-shop-new-orlean...</td>\n",
       "      <td>4054</td>\n",
       "      <td>[{'alias': 'cajun', 'title': 'Cajun/Creole'}]</td>\n",
       "      <td>4.0</td>\n",
       "      <td>{'latitude': 29.9577089, 'longitude': -90.064537}</td>\n",
       "      <td>[delivery]</td>\n",
       "      <td>$$</td>\n",
       "      <td>{'address1': '630 St Peter St', 'address2': ''...</td>\n",
       "      <td>+15045251486</td>\n",
       "      <td>(504) 525-1486</td>\n",
       "      <td>2223.548365</td>\n",
       "    </tr>\n",
       "    <tr>\n",
       "      <th>1</th>\n",
       "      <td>SJIQFKTW6uUsOo29w9IHxw</td>\n",
       "      <td>mambos-new-orleans</td>\n",
       "      <td>Mambo's</td>\n",
       "      <td>https://s3-media4.fl.yelpcdn.com/bphoto/tarz6Y...</td>\n",
       "      <td>False</td>\n",
       "      <td>https://www.yelp.com/biz/mambos-new-orleans?ad...</td>\n",
       "      <td>1420</td>\n",
       "      <td>[{'alias': 'cajun', 'title': 'Cajun/Creole'}, ...</td>\n",
       "      <td>4.0</td>\n",
       "      <td>{'latitude': 29.95668, 'longitude': -90.06772}</td>\n",
       "      <td>[pickup, delivery]</td>\n",
       "      <td>$$</td>\n",
       "      <td>{'address1': '411 Bourbon St', 'address2': '',...</td>\n",
       "      <td>+15044073717</td>\n",
       "      <td>(504) 407-3717</td>\n",
       "      <td>2028.724441</td>\n",
       "    </tr>\n",
       "    <tr>\n",
       "      <th>2</th>\n",
       "      <td>6a4gLLFSgr-Q6CZXDLzBGQ</td>\n",
       "      <td>cochon-new-orleans-3</td>\n",
       "      <td>Cochon</td>\n",
       "      <td>https://s3-media2.fl.yelpcdn.com/bphoto/8WluRP...</td>\n",
       "      <td>False</td>\n",
       "      <td>https://www.yelp.com/biz/cochon-new-orleans-3?...</td>\n",
       "      <td>4541</td>\n",
       "      <td>[{'alias': 'cajun', 'title': 'Cajun/Creole'}, ...</td>\n",
       "      <td>4.0</td>\n",
       "      <td>{'latitude': 29.94226, 'longitude': -90.06713}</td>\n",
       "      <td>[delivery]</td>\n",
       "      <td>$$</td>\n",
       "      <td>{'address1': '930 Tchoupitoulas St', 'address2...</td>\n",
       "      <td>+15045882123</td>\n",
       "      <td>(504) 588-2123</td>\n",
       "      <td>613.353835</td>\n",
       "    </tr>\n",
       "    <tr>\n",
       "      <th>3</th>\n",
       "      <td>A0DYN5wxygYnX_sL3HygvA</td>\n",
       "      <td>gris-gris-new-orleans</td>\n",
       "      <td>Gris-Gris</td>\n",
       "      <td>https://s3-media1.fl.yelpcdn.com/bphoto/nC7Hpo...</td>\n",
       "      <td>False</td>\n",
       "      <td>https://www.yelp.com/biz/gris-gris-new-orleans...</td>\n",
       "      <td>587</td>\n",
       "      <td>[{'alias': 'cajun', 'title': 'Cajun/Creole'}, ...</td>\n",
       "      <td>4.5</td>\n",
       "      <td>{'latitude': 29.93179, 'longitude': -90.07339}</td>\n",
       "      <td>[delivery]</td>\n",
       "      <td>$$</td>\n",
       "      <td>{'address1': '1800 Magazine St', 'address2': '...</td>\n",
       "      <td>+15042720241</td>\n",
       "      <td>(504) 272-0241</td>\n",
       "      <td>796.159167</td>\n",
       "    </tr>\n",
       "    <tr>\n",
       "      <th>4</th>\n",
       "      <td>ww3YJXu5c18aGZXWmm00qg</td>\n",
       "      <td>café-amelie-new-orleans-2</td>\n",
       "      <td>Café Amelie</td>\n",
       "      <td>https://s3-media1.fl.yelpcdn.com/bphoto/RQEbYN...</td>\n",
       "      <td>False</td>\n",
       "      <td>https://www.yelp.com/biz/caf%C3%A9-amelie-new-...</td>\n",
       "      <td>2802</td>\n",
       "      <td>[{'alias': 'newamerican', 'title': 'American (...</td>\n",
       "      <td>4.5</td>\n",
       "      <td>{'latitude': 29.95992709999999, 'longitude': -...</td>\n",
       "      <td>[delivery]</td>\n",
       "      <td>$$</td>\n",
       "      <td>{'address1': '900 Royal St', 'address2': None,...</td>\n",
       "      <td>+15044128965</td>\n",
       "      <td>(504) 412-8965</td>\n",
       "      <td>2509.077387</td>\n",
       "    </tr>\n",
       "    <tr>\n",
       "      <th>5</th>\n",
       "      <td>y-g8sgT7WkN16BBe9Vj41g</td>\n",
       "      <td>guss-world-famous-fried-chicken-new-orleans-2</td>\n",
       "      <td>Gus's World Famous Fried Chicken</td>\n",
       "      <td>https://s3-media2.fl.yelpcdn.com/bphoto/3O5sRA...</td>\n",
       "      <td>False</td>\n",
       "      <td>https://www.yelp.com/biz/guss-world-famous-fri...</td>\n",
       "      <td>595</td>\n",
       "      <td>[{'alias': 'chickenshop', 'title': 'Chicken Sh...</td>\n",
       "      <td>4.5</td>\n",
       "      <td>{'latitude': 29.94222, 'longitude': -90.06613}</td>\n",
       "      <td>[delivery]</td>\n",
       "      <td>$$</td>\n",
       "      <td>{'address1': '308 S Diamond St', 'address2': '...</td>\n",
       "      <td>+15042524870</td>\n",
       "      <td>(504) 252-4870</td>\n",
       "      <td>697.490763</td>\n",
       "    </tr>\n",
       "    <tr>\n",
       "      <th>6</th>\n",
       "      <td>NHdE_ObFj7OjQBB3jjqBNQ</td>\n",
       "      <td>lula-restaurant-distillery-new-orleans-2</td>\n",
       "      <td>Lula Restaurant Distillery</td>\n",
       "      <td>https://s3-media2.fl.yelpcdn.com/bphoto/wogeWy...</td>\n",
       "      <td>False</td>\n",
       "      <td>https://www.yelp.com/biz/lula-restaurant-disti...</td>\n",
       "      <td>707</td>\n",
       "      <td>[{'alias': 'southern', 'title': 'Southern'}, {...</td>\n",
       "      <td>4.0</td>\n",
       "      <td>{'latitude': 29.9385946, 'longitude': -90.0755...</td>\n",
       "      <td>[delivery]</td>\n",
       "      <td>$$</td>\n",
       "      <td>{'address1': '1532 St Charles Ave', 'address2'...</td>\n",
       "      <td>+15042677624</td>\n",
       "      <td>(504) 267-7624</td>\n",
       "      <td>325.825385</td>\n",
       "    </tr>\n",
       "    <tr>\n",
       "      <th>7</th>\n",
       "      <td>-ojG1NfFYuHN_oGsGK1W8Q</td>\n",
       "      <td>the-little-easy-new-orleans</td>\n",
       "      <td>The Little Easy</td>\n",
       "      <td>https://s3-media4.fl.yelpcdn.com/bphoto/ECCw6m...</td>\n",
       "      <td>False</td>\n",
       "      <td>https://www.yelp.com/biz/the-little-easy-new-o...</td>\n",
       "      <td>58</td>\n",
       "      <td>[{'alias': 'cajun', 'title': 'Cajun/Creole'}, ...</td>\n",
       "      <td>4.0</td>\n",
       "      <td>{'latitude': 29.94566, 'longitude': -90.0714}</td>\n",
       "      <td>[pickup, delivery]</td>\n",
       "      <td>$$</td>\n",
       "      <td>{'address1': '634 Julia St', 'address2': None,...</td>\n",
       "      <td>+15045818452</td>\n",
       "      <td>(504) 581-8452</td>\n",
       "      <td>758.377848</td>\n",
       "    </tr>\n",
       "    <tr>\n",
       "      <th>8</th>\n",
       "      <td>RGXb-3iUuaORNWB_nt_RcQ</td>\n",
       "      <td>galliano-restaurant-new-orleans</td>\n",
       "      <td>Galliano Restaurant</td>\n",
       "      <td>https://s3-media3.fl.yelpcdn.com/bphoto/leDTa-...</td>\n",
       "      <td>False</td>\n",
       "      <td>https://www.yelp.com/biz/galliano-restaurant-n...</td>\n",
       "      <td>752</td>\n",
       "      <td>[{'alias': 'southern', 'title': 'Southern'}, {...</td>\n",
       "      <td>4.5</td>\n",
       "      <td>{'latitude': 29.944331, 'longitude': -90.065402}</td>\n",
       "      <td>[delivery]</td>\n",
       "      <td>$$$</td>\n",
       "      <td>{'address1': '200 Julia St', 'address2': None,...</td>\n",
       "      <td>+15042185753</td>\n",
       "      <td>(504) 218-5753</td>\n",
       "      <td>905.906303</td>\n",
       "    </tr>\n",
       "    <tr>\n",
       "      <th>9</th>\n",
       "      <td>ac1AeYqs8Z4_e2X5M3if2A</td>\n",
       "      <td>oceana-grill-new-orleans-4</td>\n",
       "      <td>Oceana Grill</td>\n",
       "      <td>https://s3-media3.fl.yelpcdn.com/bphoto/xW9nO4...</td>\n",
       "      <td>False</td>\n",
       "      <td>https://www.yelp.com/biz/oceana-grill-new-orle...</td>\n",
       "      <td>7717</td>\n",
       "      <td>[{'alias': 'cajun', 'title': 'Cajun/Creole'}, ...</td>\n",
       "      <td>4.0</td>\n",
       "      <td>{'latitude': 29.956231, 'longitude': -90.067563}</td>\n",
       "      <td>[pickup, delivery]</td>\n",
       "      <td>$$</td>\n",
       "      <td>{'address1': '739 Conti St', 'address2': '', '...</td>\n",
       "      <td>+15045256002</td>\n",
       "      <td>(504) 525-6002</td>\n",
       "      <td>1983.228889</td>\n",
       "    </tr>\n",
       "    <tr>\n",
       "      <th>10</th>\n",
       "      <td>qltayRFPZ1GiSMeUkeF3Dw</td>\n",
       "      <td>jack-rose-new-orleans-2</td>\n",
       "      <td>Jack Rose</td>\n",
       "      <td>https://s3-media1.fl.yelpcdn.com/bphoto/oIvB6P...</td>\n",
       "      <td>False</td>\n",
       "      <td>https://www.yelp.com/biz/jack-rose-new-orleans...</td>\n",
       "      <td>299</td>\n",
       "      <td>[{'alias': 'cajun', 'title': 'Cajun/Creole'}, ...</td>\n",
       "      <td>4.5</td>\n",
       "      <td>{'latitude': 29.93515618208648, 'longitude': -...</td>\n",
       "      <td>[delivery]</td>\n",
       "      <td>$$</td>\n",
       "      <td>{'address1': '2031 St Charles Ave', 'address2'...</td>\n",
       "      <td>+15043231500</td>\n",
       "      <td>(504) 323-1500</td>\n",
       "      <td>822.030424</td>\n",
       "    </tr>\n",
       "    <tr>\n",
       "      <th>11</th>\n",
       "      <td>ADgeB1sfOGbzCR3LIi-4lg</td>\n",
       "      <td>cafe-reconcile-new-orleans-6</td>\n",
       "      <td>Cafe Reconcile</td>\n",
       "      <td>https://s3-media2.fl.yelpcdn.com/bphoto/mCoWnA...</td>\n",
       "      <td>False</td>\n",
       "      <td>https://www.yelp.com/biz/cafe-reconcile-new-or...</td>\n",
       "      <td>155</td>\n",
       "      <td>[{'alias': 'cajun', 'title': 'Cajun/Creole'}, ...</td>\n",
       "      <td>4.5</td>\n",
       "      <td>{'latitude': 29.9399302208064, 'longitude': -9...</td>\n",
       "      <td>[delivery]</td>\n",
       "      <td>$$</td>\n",
       "      <td>{'address1': '1631 Oretha C Haley Blvd', 'addr...</td>\n",
       "      <td>+15045681157</td>\n",
       "      <td>(504) 568-1157</td>\n",
       "      <td>789.400856</td>\n",
       "    </tr>\n",
       "    <tr>\n",
       "      <th>12</th>\n",
       "      <td>oDETvkVkHw7CjZj7ZOZFOQ</td>\n",
       "      <td>cajun-mikes-pub-and-grub-new-orleans</td>\n",
       "      <td>Cajun Mike's Pub &amp; Grub</td>\n",
       "      <td>https://s3-media3.fl.yelpcdn.com/bphoto/PTNHsl...</td>\n",
       "      <td>False</td>\n",
       "      <td>https://www.yelp.com/biz/cajun-mikes-pub-and-g...</td>\n",
       "      <td>776</td>\n",
       "      <td>[{'alias': 'cajun', 'title': 'Cajun/Creole'}, ...</td>\n",
       "      <td>4.0</td>\n",
       "      <td>{'latitude': 29.95396, 'longitude': -90.0712099}</td>\n",
       "      <td>[delivery]</td>\n",
       "      <td>$</td>\n",
       "      <td>{'address1': '116 Baronne St', 'address2': '',...</td>\n",
       "      <td>+15045660055</td>\n",
       "      <td>(504) 566-0055</td>\n",
       "      <td>1655.889568</td>\n",
       "    </tr>\n",
       "    <tr>\n",
       "      <th>13</th>\n",
       "      <td>swVdc9piXvG0AXwL-F0GfQ</td>\n",
       "      <td>gallier-restaurant-and-oyster-bar-new-orleans</td>\n",
       "      <td>Gallier Restaurant &amp; Oyster Bar</td>\n",
       "      <td>https://s3-media2.fl.yelpcdn.com/bphoto/cNg8rQ...</td>\n",
       "      <td>False</td>\n",
       "      <td>https://www.yelp.com/biz/gallier-restaurant-an...</td>\n",
       "      <td>908</td>\n",
       "      <td>[{'alias': 'seafood', 'title': 'Seafood'}, {'a...</td>\n",
       "      <td>4.5</td>\n",
       "      <td>{'latitude': 29.9533, 'longitude': -90.07077}</td>\n",
       "      <td>[delivery]</td>\n",
       "      <td>$$</td>\n",
       "      <td>{'address1': '129 Carondelet St', 'address2': ...</td>\n",
       "      <td>+15042675672</td>\n",
       "      <td>(504) 267-5672</td>\n",
       "      <td>1613.747443</td>\n",
       "    </tr>\n",
       "    <tr>\n",
       "      <th>14</th>\n",
       "      <td>75FY8ZQx5nOWP0VFmNvWfw</td>\n",
       "      <td>atchafalaya-restaurant-new-orleans</td>\n",
       "      <td>Atchafalaya Restaurant</td>\n",
       "      <td>https://s3-media4.fl.yelpcdn.com/bphoto/dljN-j...</td>\n",
       "      <td>False</td>\n",
       "      <td>https://www.yelp.com/biz/atchafalaya-restauran...</td>\n",
       "      <td>2092</td>\n",
       "      <td>[{'alias': 'breakfast_brunch', 'title': 'Break...</td>\n",
       "      <td>4.5</td>\n",
       "      <td>{'latitude': 29.9212715, 'longitude': -90.0878...</td>\n",
       "      <td>[delivery]</td>\n",
       "      <td>$$$</td>\n",
       "      <td>{'address1': '901 Louisiana Ave', 'address2': ...</td>\n",
       "      <td>+15048919626</td>\n",
       "      <td>(504) 891-9626</td>\n",
       "      <td>2466.666635</td>\n",
       "    </tr>\n",
       "    <tr>\n",
       "      <th>15</th>\n",
       "      <td>hfbZ97Te3T4jeWN6GgsGrQ</td>\n",
       "      <td>willa-jean-new-orleans</td>\n",
       "      <td>Willa Jean</td>\n",
       "      <td>https://s3-media2.fl.yelpcdn.com/bphoto/PXeSM3...</td>\n",
       "      <td>False</td>\n",
       "      <td>https://www.yelp.com/biz/willa-jean-new-orlean...</td>\n",
       "      <td>2085</td>\n",
       "      <td>[{'alias': 'bakeries', 'title': 'Bakeries'}, {...</td>\n",
       "      <td>4.0</td>\n",
       "      <td>{'latitude': 29.948321, 'longitude': -90.075122}</td>\n",
       "      <td>[delivery]</td>\n",
       "      <td>$$</td>\n",
       "      <td>{'address1': '611 O'Keefe Ave', 'address2': ''...</td>\n",
       "      <td>+15045097334</td>\n",
       "      <td>(504) 509-7334</td>\n",
       "      <td>1086.481054</td>\n",
       "    </tr>\n",
       "    <tr>\n",
       "      <th>16</th>\n",
       "      <td>Hz0p2RasO5tjll-AdjpJqw</td>\n",
       "      <td>corporation-bar-and-grill-new-orleans</td>\n",
       "      <td>Corporation Bar &amp; Grill</td>\n",
       "      <td>https://s3-media3.fl.yelpcdn.com/bphoto/Box7Xy...</td>\n",
       "      <td>False</td>\n",
       "      <td>https://www.yelp.com/biz/corporation-bar-and-g...</td>\n",
       "      <td>191</td>\n",
       "      <td>[{'alias': 'cajun', 'title': 'Cajun/Creole'}, ...</td>\n",
       "      <td>4.0</td>\n",
       "      <td>{'latitude': 29.9419784545898, 'longitude': -9...</td>\n",
       "      <td>[delivery]</td>\n",
       "      <td>$</td>\n",
       "      <td>{'address1': '931 S Peters St', 'address2': ''...</td>\n",
       "      <td>+15045276069</td>\n",
       "      <td>(504) 527-6069</td>\n",
       "      <td>689.738454</td>\n",
       "    </tr>\n",
       "    <tr>\n",
       "      <th>17</th>\n",
       "      <td>VQcCL9PiNL_wkGf-uF3fjg</td>\n",
       "      <td>royal-house-new-orleans</td>\n",
       "      <td>Royal House</td>\n",
       "      <td>https://s3-media1.fl.yelpcdn.com/bphoto/41QZ_g...</td>\n",
       "      <td>False</td>\n",
       "      <td>https://www.yelp.com/biz/royal-house-new-orlea...</td>\n",
       "      <td>5194</td>\n",
       "      <td>[{'alias': 'cajun', 'title': 'Cajun/Creole'}, ...</td>\n",
       "      <td>4.0</td>\n",
       "      <td>{'latitude': 29.956473230039563, 'longitude': ...</td>\n",
       "      <td>[delivery]</td>\n",
       "      <td>$$</td>\n",
       "      <td>{'address1': '441 Royal St', 'address2': '', '...</td>\n",
       "      <td>+15045282601</td>\n",
       "      <td>(504) 528-2601</td>\n",
       "      <td>2038.044991</td>\n",
       "    </tr>\n",
       "    <tr>\n",
       "      <th>18</th>\n",
       "      <td>zSqTndm5Alq9dW1PyzbdTA</td>\n",
       "      <td>grand-isle-new-orleans-2</td>\n",
       "      <td>Grand Isle</td>\n",
       "      <td>https://s3-media3.fl.yelpcdn.com/bphoto/71cRH-...</td>\n",
       "      <td>False</td>\n",
       "      <td>https://www.yelp.com/biz/grand-isle-new-orlean...</td>\n",
       "      <td>629</td>\n",
       "      <td>[{'alias': 'southern', 'title': 'Southern'}, {...</td>\n",
       "      <td>4.0</td>\n",
       "      <td>{'latitude': 29.94732, 'longitude': -90.06494}</td>\n",
       "      <td>[pickup]</td>\n",
       "      <td>$$</td>\n",
       "      <td>{'address1': '575 Convention Center Blvd', 'ad...</td>\n",
       "      <td>+15045208530</td>\n",
       "      <td>(504) 520-8530</td>\n",
       "      <td>1187.799185</td>\n",
       "    </tr>\n",
       "    <tr>\n",
       "      <th>19</th>\n",
       "      <td>iSRTaT9WngzB8JJ2YKJUig</td>\n",
       "      <td>mothers-restaurant-new-orleans</td>\n",
       "      <td>Mother's Restaurant</td>\n",
       "      <td>https://s3-media2.fl.yelpcdn.com/bphoto/VL-Xnc...</td>\n",
       "      <td>False</td>\n",
       "      <td>https://www.yelp.com/biz/mothers-restaurant-ne...</td>\n",
       "      <td>5339</td>\n",
       "      <td>[{'alias': 'cajun', 'title': 'Cajun/Creole'}, ...</td>\n",
       "      <td>3.5</td>\n",
       "      <td>{'latitude': 29.94903, 'longitude': -90.06721}</td>\n",
       "      <td>[delivery]</td>\n",
       "      <td>$$</td>\n",
       "      <td>{'address1': '401 Poydras St', 'address2': '',...</td>\n",
       "      <td>+15045239656</td>\n",
       "      <td>(504) 523-9656</td>\n",
       "      <td>1239.600316</td>\n",
       "    </tr>\n",
       "  </tbody>\n",
       "</table>\n",
       "</div>"
      ],
      "text/plain": [
       "                        id                                          alias  \\\n",
       "0   qb28j-FNX1_6xm7u372TZA                       gumbo-shop-new-orleans-2   \n",
       "1   SJIQFKTW6uUsOo29w9IHxw                             mambos-new-orleans   \n",
       "2   6a4gLLFSgr-Q6CZXDLzBGQ                           cochon-new-orleans-3   \n",
       "3   A0DYN5wxygYnX_sL3HygvA                          gris-gris-new-orleans   \n",
       "4   ww3YJXu5c18aGZXWmm00qg                      café-amelie-new-orleans-2   \n",
       "5   y-g8sgT7WkN16BBe9Vj41g  guss-world-famous-fried-chicken-new-orleans-2   \n",
       "6   NHdE_ObFj7OjQBB3jjqBNQ       lula-restaurant-distillery-new-orleans-2   \n",
       "7   -ojG1NfFYuHN_oGsGK1W8Q                    the-little-easy-new-orleans   \n",
       "8   RGXb-3iUuaORNWB_nt_RcQ                galliano-restaurant-new-orleans   \n",
       "9   ac1AeYqs8Z4_e2X5M3if2A                     oceana-grill-new-orleans-4   \n",
       "10  qltayRFPZ1GiSMeUkeF3Dw                        jack-rose-new-orleans-2   \n",
       "11  ADgeB1sfOGbzCR3LIi-4lg                   cafe-reconcile-new-orleans-6   \n",
       "12  oDETvkVkHw7CjZj7ZOZFOQ           cajun-mikes-pub-and-grub-new-orleans   \n",
       "13  swVdc9piXvG0AXwL-F0GfQ  gallier-restaurant-and-oyster-bar-new-orleans   \n",
       "14  75FY8ZQx5nOWP0VFmNvWfw             atchafalaya-restaurant-new-orleans   \n",
       "15  hfbZ97Te3T4jeWN6GgsGrQ                         willa-jean-new-orleans   \n",
       "16  Hz0p2RasO5tjll-AdjpJqw          corporation-bar-and-grill-new-orleans   \n",
       "17  VQcCL9PiNL_wkGf-uF3fjg                        royal-house-new-orleans   \n",
       "18  zSqTndm5Alq9dW1PyzbdTA                       grand-isle-new-orleans-2   \n",
       "19  iSRTaT9WngzB8JJ2YKJUig                 mothers-restaurant-new-orleans   \n",
       "\n",
       "                                name  \\\n",
       "0                         Gumbo Shop   \n",
       "1                            Mambo's   \n",
       "2                             Cochon   \n",
       "3                          Gris-Gris   \n",
       "4                        Café Amelie   \n",
       "5   Gus's World Famous Fried Chicken   \n",
       "6         Lula Restaurant Distillery   \n",
       "7                    The Little Easy   \n",
       "8                Galliano Restaurant   \n",
       "9                       Oceana Grill   \n",
       "10                         Jack Rose   \n",
       "11                    Cafe Reconcile   \n",
       "12           Cajun Mike's Pub & Grub   \n",
       "13   Gallier Restaurant & Oyster Bar   \n",
       "14            Atchafalaya Restaurant   \n",
       "15                        Willa Jean   \n",
       "16           Corporation Bar & Grill   \n",
       "17                       Royal House   \n",
       "18                        Grand Isle   \n",
       "19               Mother's Restaurant   \n",
       "\n",
       "                                            image_url  is_closed  \\\n",
       "0   https://s3-media2.fl.yelpcdn.com/bphoto/aFZtqf...      False   \n",
       "1   https://s3-media4.fl.yelpcdn.com/bphoto/tarz6Y...      False   \n",
       "2   https://s3-media2.fl.yelpcdn.com/bphoto/8WluRP...      False   \n",
       "3   https://s3-media1.fl.yelpcdn.com/bphoto/nC7Hpo...      False   \n",
       "4   https://s3-media1.fl.yelpcdn.com/bphoto/RQEbYN...      False   \n",
       "5   https://s3-media2.fl.yelpcdn.com/bphoto/3O5sRA...      False   \n",
       "6   https://s3-media2.fl.yelpcdn.com/bphoto/wogeWy...      False   \n",
       "7   https://s3-media4.fl.yelpcdn.com/bphoto/ECCw6m...      False   \n",
       "8   https://s3-media3.fl.yelpcdn.com/bphoto/leDTa-...      False   \n",
       "9   https://s3-media3.fl.yelpcdn.com/bphoto/xW9nO4...      False   \n",
       "10  https://s3-media1.fl.yelpcdn.com/bphoto/oIvB6P...      False   \n",
       "11  https://s3-media2.fl.yelpcdn.com/bphoto/mCoWnA...      False   \n",
       "12  https://s3-media3.fl.yelpcdn.com/bphoto/PTNHsl...      False   \n",
       "13  https://s3-media2.fl.yelpcdn.com/bphoto/cNg8rQ...      False   \n",
       "14  https://s3-media4.fl.yelpcdn.com/bphoto/dljN-j...      False   \n",
       "15  https://s3-media2.fl.yelpcdn.com/bphoto/PXeSM3...      False   \n",
       "16  https://s3-media3.fl.yelpcdn.com/bphoto/Box7Xy...      False   \n",
       "17  https://s3-media1.fl.yelpcdn.com/bphoto/41QZ_g...      False   \n",
       "18  https://s3-media3.fl.yelpcdn.com/bphoto/71cRH-...      False   \n",
       "19  https://s3-media2.fl.yelpcdn.com/bphoto/VL-Xnc...      False   \n",
       "\n",
       "                                                  url  review_count  \\\n",
       "0   https://www.yelp.com/biz/gumbo-shop-new-orlean...          4054   \n",
       "1   https://www.yelp.com/biz/mambos-new-orleans?ad...          1420   \n",
       "2   https://www.yelp.com/biz/cochon-new-orleans-3?...          4541   \n",
       "3   https://www.yelp.com/biz/gris-gris-new-orleans...           587   \n",
       "4   https://www.yelp.com/biz/caf%C3%A9-amelie-new-...          2802   \n",
       "5   https://www.yelp.com/biz/guss-world-famous-fri...           595   \n",
       "6   https://www.yelp.com/biz/lula-restaurant-disti...           707   \n",
       "7   https://www.yelp.com/biz/the-little-easy-new-o...            58   \n",
       "8   https://www.yelp.com/biz/galliano-restaurant-n...           752   \n",
       "9   https://www.yelp.com/biz/oceana-grill-new-orle...          7717   \n",
       "10  https://www.yelp.com/biz/jack-rose-new-orleans...           299   \n",
       "11  https://www.yelp.com/biz/cafe-reconcile-new-or...           155   \n",
       "12  https://www.yelp.com/biz/cajun-mikes-pub-and-g...           776   \n",
       "13  https://www.yelp.com/biz/gallier-restaurant-an...           908   \n",
       "14  https://www.yelp.com/biz/atchafalaya-restauran...          2092   \n",
       "15  https://www.yelp.com/biz/willa-jean-new-orlean...          2085   \n",
       "16  https://www.yelp.com/biz/corporation-bar-and-g...           191   \n",
       "17  https://www.yelp.com/biz/royal-house-new-orlea...          5194   \n",
       "18  https://www.yelp.com/biz/grand-isle-new-orlean...           629   \n",
       "19  https://www.yelp.com/biz/mothers-restaurant-ne...          5339   \n",
       "\n",
       "                                           categories  rating  \\\n",
       "0       [{'alias': 'cajun', 'title': 'Cajun/Creole'}]     4.0   \n",
       "1   [{'alias': 'cajun', 'title': 'Cajun/Creole'}, ...     4.0   \n",
       "2   [{'alias': 'cajun', 'title': 'Cajun/Creole'}, ...     4.0   \n",
       "3   [{'alias': 'cajun', 'title': 'Cajun/Creole'}, ...     4.5   \n",
       "4   [{'alias': 'newamerican', 'title': 'American (...     4.5   \n",
       "5   [{'alias': 'chickenshop', 'title': 'Chicken Sh...     4.5   \n",
       "6   [{'alias': 'southern', 'title': 'Southern'}, {...     4.0   \n",
       "7   [{'alias': 'cajun', 'title': 'Cajun/Creole'}, ...     4.0   \n",
       "8   [{'alias': 'southern', 'title': 'Southern'}, {...     4.5   \n",
       "9   [{'alias': 'cajun', 'title': 'Cajun/Creole'}, ...     4.0   \n",
       "10  [{'alias': 'cajun', 'title': 'Cajun/Creole'}, ...     4.5   \n",
       "11  [{'alias': 'cajun', 'title': 'Cajun/Creole'}, ...     4.5   \n",
       "12  [{'alias': 'cajun', 'title': 'Cajun/Creole'}, ...     4.0   \n",
       "13  [{'alias': 'seafood', 'title': 'Seafood'}, {'a...     4.5   \n",
       "14  [{'alias': 'breakfast_brunch', 'title': 'Break...     4.5   \n",
       "15  [{'alias': 'bakeries', 'title': 'Bakeries'}, {...     4.0   \n",
       "16  [{'alias': 'cajun', 'title': 'Cajun/Creole'}, ...     4.0   \n",
       "17  [{'alias': 'cajun', 'title': 'Cajun/Creole'}, ...     4.0   \n",
       "18  [{'alias': 'southern', 'title': 'Southern'}, {...     4.0   \n",
       "19  [{'alias': 'cajun', 'title': 'Cajun/Creole'}, ...     3.5   \n",
       "\n",
       "                                          coordinates        transactions  \\\n",
       "0   {'latitude': 29.9577089, 'longitude': -90.064537}          [delivery]   \n",
       "1      {'latitude': 29.95668, 'longitude': -90.06772}  [pickup, delivery]   \n",
       "2      {'latitude': 29.94226, 'longitude': -90.06713}          [delivery]   \n",
       "3      {'latitude': 29.93179, 'longitude': -90.07339}          [delivery]   \n",
       "4   {'latitude': 29.95992709999999, 'longitude': -...          [delivery]   \n",
       "5      {'latitude': 29.94222, 'longitude': -90.06613}          [delivery]   \n",
       "6   {'latitude': 29.9385946, 'longitude': -90.0755...          [delivery]   \n",
       "7       {'latitude': 29.94566, 'longitude': -90.0714}  [pickup, delivery]   \n",
       "8    {'latitude': 29.944331, 'longitude': -90.065402}          [delivery]   \n",
       "9    {'latitude': 29.956231, 'longitude': -90.067563}  [pickup, delivery]   \n",
       "10  {'latitude': 29.93515618208648, 'longitude': -...          [delivery]   \n",
       "11  {'latitude': 29.9399302208064, 'longitude': -9...          [delivery]   \n",
       "12   {'latitude': 29.95396, 'longitude': -90.0712099}          [delivery]   \n",
       "13      {'latitude': 29.9533, 'longitude': -90.07077}          [delivery]   \n",
       "14  {'latitude': 29.9212715, 'longitude': -90.0878...          [delivery]   \n",
       "15   {'latitude': 29.948321, 'longitude': -90.075122}          [delivery]   \n",
       "16  {'latitude': 29.9419784545898, 'longitude': -9...          [delivery]   \n",
       "17  {'latitude': 29.956473230039563, 'longitude': ...          [delivery]   \n",
       "18     {'latitude': 29.94732, 'longitude': -90.06494}            [pickup]   \n",
       "19     {'latitude': 29.94903, 'longitude': -90.06721}          [delivery]   \n",
       "\n",
       "   price                                           location         phone  \\\n",
       "0     $$  {'address1': '630 St Peter St', 'address2': ''...  +15045251486   \n",
       "1     $$  {'address1': '411 Bourbon St', 'address2': '',...  +15044073717   \n",
       "2     $$  {'address1': '930 Tchoupitoulas St', 'address2...  +15045882123   \n",
       "3     $$  {'address1': '1800 Magazine St', 'address2': '...  +15042720241   \n",
       "4     $$  {'address1': '900 Royal St', 'address2': None,...  +15044128965   \n",
       "5     $$  {'address1': '308 S Diamond St', 'address2': '...  +15042524870   \n",
       "6     $$  {'address1': '1532 St Charles Ave', 'address2'...  +15042677624   \n",
       "7     $$  {'address1': '634 Julia St', 'address2': None,...  +15045818452   \n",
       "8    $$$  {'address1': '200 Julia St', 'address2': None,...  +15042185753   \n",
       "9     $$  {'address1': '739 Conti St', 'address2': '', '...  +15045256002   \n",
       "10    $$  {'address1': '2031 St Charles Ave', 'address2'...  +15043231500   \n",
       "11    $$  {'address1': '1631 Oretha C Haley Blvd', 'addr...  +15045681157   \n",
       "12     $  {'address1': '116 Baronne St', 'address2': '',...  +15045660055   \n",
       "13    $$  {'address1': '129 Carondelet St', 'address2': ...  +15042675672   \n",
       "14   $$$  {'address1': '901 Louisiana Ave', 'address2': ...  +15048919626   \n",
       "15    $$  {'address1': '611 O'Keefe Ave', 'address2': ''...  +15045097334   \n",
       "16     $  {'address1': '931 S Peters St', 'address2': ''...  +15045276069   \n",
       "17    $$  {'address1': '441 Royal St', 'address2': '', '...  +15045282601   \n",
       "18    $$  {'address1': '575 Convention Center Blvd', 'ad...  +15045208530   \n",
       "19    $$  {'address1': '401 Poydras St', 'address2': '',...  +15045239656   \n",
       "\n",
       "     display_phone     distance  \n",
       "0   (504) 525-1486  2223.548365  \n",
       "1   (504) 407-3717  2028.724441  \n",
       "2   (504) 588-2123   613.353835  \n",
       "3   (504) 272-0241   796.159167  \n",
       "4   (504) 412-8965  2509.077387  \n",
       "5   (504) 252-4870   697.490763  \n",
       "6   (504) 267-7624   325.825385  \n",
       "7   (504) 581-8452   758.377848  \n",
       "8   (504) 218-5753   905.906303  \n",
       "9   (504) 525-6002  1983.228889  \n",
       "10  (504) 323-1500   822.030424  \n",
       "11  (504) 568-1157   789.400856  \n",
       "12  (504) 566-0055  1655.889568  \n",
       "13  (504) 267-5672  1613.747443  \n",
       "14  (504) 891-9626  2466.666635  \n",
       "15  (504) 509-7334  1086.481054  \n",
       "16  (504) 527-6069   689.738454  \n",
       "17  (504) 528-2601  2038.044991  \n",
       "18  (504) 520-8530  1187.799185  \n",
       "19  (504) 523-9656  1239.600316  "
      ]
     },
     "execution_count": 13,
     "metadata": {},
     "output_type": "execute_result"
    }
   ],
   "source": [
    "# Save API query data into dataframe\n",
    "pd.DataFrame(results['businesses'])"
   ]
  },
  {
   "cell_type": "code",
   "execution_count": 14,
   "id": "bc4d5ba1",
   "metadata": {},
   "outputs": [
    {
     "data": {
      "text/plain": [
       "False"
      ]
     },
     "execution_count": 14,
     "metadata": {},
     "output_type": "execute_result"
    }
   ],
   "source": [
    "# Check if JSON file exists\n",
    "os.path.isfile(JSON_FILE)"
   ]
  },
  {
   "cell_type": "code",
   "execution_count": 15,
   "id": "b51702ba",
   "metadata": {},
   "outputs": [
    {
     "name": "stdout",
     "output_type": "stream",
     "text": [
      "The file does not exist.  Creating empty file.\n"
     ]
    }
   ],
   "source": [
    "## Check if JSON_FILE exists\n",
    "if os.path.isfile(JSON_FILE)==False:\n",
    "\n",
    "## If it does not exist: \n",
    "    print('The file does not exist.  Creating empty file.')\n",
    "    \n",
    "    ## save the first page of results\n",
    "    with open(JSON_FILE, 'w') as f:\n",
    "          json.dump(results['businesses'],f)\n",
    "        \n",
    "## If it exists, inform user\n",
    "else:\n",
    "    print('File already exists.')"
   ]
  },
  {
   "cell_type": "code",
   "execution_count": 16,
   "id": "7bd977ad",
   "metadata": {},
   "outputs": [
    {
     "data": {
      "text/plain": [
       "20"
      ]
     },
     "execution_count": 16,
     "metadata": {},
     "output_type": "execute_result"
    }
   ],
   "source": [
    "## Load previous results and use len of results for offset \n",
    "## (optional:  Offset the list of returned business results by this amount)\n",
    "\n",
    "prev_df = pd.read_json(JSON_FILE)\n",
    "## set offset based on previous results\n",
    "n_results = len(prev_df)\n",
    "n_results"
   ]
  },
  {
   "cell_type": "code",
   "execution_count": 17,
   "id": "633943b1",
   "metadata": {},
   "outputs": [
    {
     "data": {
      "text/plain": [
       "20"
      ]
     },
     "execution_count": 17,
     "metadata": {},
     "output_type": "execute_result"
    }
   ],
   "source": [
    "## How many did we get the details for on first API call?\n",
    "results_per_page = len(results['businesses'])\n",
    "results_per_page"
   ]
  },
  {
   "cell_type": "code",
   "execution_count": 18,
   "id": "705cc561",
   "metadata": {},
   "outputs": [
    {
     "data": {
      "text/plain": [
       "16"
      ]
     },
     "execution_count": 18,
     "metadata": {},
     "output_type": "execute_result"
    }
   ],
   "source": [
    "# Use math.ceil to round up for the total number of pages of results.\n",
    "import math\n",
    "n_pages = math.ceil(results['total']/results_per_page)\n",
    "n_pages"
   ]
  },
  {
   "cell_type": "code",
   "execution_count": 19,
   "id": "f49f9b16",
   "metadata": {},
   "outputs": [
    {
     "data": {
      "application/vnd.jupyter.widget-view+json": {
       "model_id": "21474e26431e4857a9d7d6263a9c9a8d",
       "version_major": 2,
       "version_minor": 0
      },
      "text/plain": [
       "  0%|          | 0/16 [00:00<?, ?it/s]"
      ]
     },
     "metadata": {},
     "output_type": "display_data"
    }
   ],
   "source": [
    "# Reminder:  tqdm is a package that provides a PROGRESS BAR graphic while loading pages\n",
    "\n",
    "for i in tqdm_notebook( range(1,n_pages+1)):\n",
    "    ## The block of code we want to TRY to run\n",
    "        \n",
    "        \n",
    "        ## Read in results in progress file and check the length\n",
    "        with open (JSON_FILE) as f:\n",
    "            prev_results = json.load(f)\n",
    "        \n",
    "        ## set offset results\n",
    "        n_results = len(prev_results)\n",
    "        \n",
    "        ## save number of results to use as offset\n",
    "        results = yelp_api.search_query(term=Term, location=Location, offset=n_results)\n",
    "        \n",
    "\n",
    "        ## append new results and save to file\n",
    "        prev_results.extend(results['businesses'])\n",
    "        with open(JSON_FILE, 'w') as f:\n",
    "            json.dump(prev_results,f)"
   ]
  }
 ],
 "metadata": {
  "kernelspec": {
   "display_name": "Python (dojo-env)",
   "language": "python",
   "name": "dojo-env"
  },
  "language_info": {
   "codemirror_mode": {
    "name": "ipython",
    "version": 3
   },
   "file_extension": ".py",
   "mimetype": "text/x-python",
   "name": "python",
   "nbconvert_exporter": "python",
   "pygments_lexer": "ipython3",
   "version": "3.7.12"
  },
  "toc": {
   "base_numbering": 1,
   "nav_menu": {},
   "number_sections": false,
   "sideBar": true,
   "skip_h1_title": false,
   "title_cell": "Table of Contents",
   "title_sidebar": "Contents",
   "toc_cell": false,
   "toc_position": {},
   "toc_section_display": true,
   "toc_window_display": true
  }
 },
 "nbformat": 4,
 "nbformat_minor": 5
}
